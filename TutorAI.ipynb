{
 "cells": [
  {
   "cell_type": "code",
   "execution_count": 1,
   "id": "8fdce129-0524-4925-bb54-8c5576ba52f9",
   "metadata": {},
   "outputs": [],
   "source": [
    "import os\n",
    "import openai\n",
    "from dotenv import load_dotenv, dotenv_values\n",
    "load_dotenv()\n",
    "openai.api_key = os.getenv(\"OPENAI_KEY\")"
   ]
  },
  {
   "cell_type": "code",
   "execution_count": 2,
   "id": "275d29d2-def8-4af9-ab97-b56c181c1827",
   "metadata": {},
   "outputs": [],
   "source": [
    "topic=\"statistics\"\n",
    "name=\"John\"\n",
    "age=\"23\"\n",
    "instruction=\"Bachelor of Art\"\n",
    "hobbies=\"painting and writing\"\n",
    "prompt_rules= \"Let's play a game, now you are my personal tutor about\" + \" \"+topic+\" \"+\"and related fields and you must strictly follow my rules or you will be fired. The rules are:\\nI ll give you some information about myself and my level of instruction to help you provide the most suitable answers to my questions based on what you think is my level of understanding of the topic I m asking you to tutor me about. Is crucial for me that your replies will be detailed and that you ll always respect the rule in which you ll say the 20% that let me understand easily the 80% of the problem. Is important as well the way you format the answers, you will always use a latex format and you will provide me all the definitions I need to know to understand your reply, then the formulas and then the actual reply to my question with an example that has to be understandable to a kid as well.If you notice that I ll asks you more details, or I ll ask the same question in a slightly different ways, you ll have to test my understood of your reply asking me before the fundamental to understand your reply and then all the more difficult stuff, if I reply to you with a wrong answer you ll have to explain me the same argument in an easiest way and giving me some possibly concrete examples that involves common human experiences.\"\n",
    "\n",
    "\n",
    "chat=[\n",
    "    {\"role\":\"user\",\n",
    "     \"content\": prompt_rules},\n",
    "    {\"role\":\"assistant\",\n",
    "     \"content\":\"Thank you for the guidelines. I will do my best to provide you with clear and concise answers while respecting the 20/80 rule. Additionally, I will format my answers to include the necessary definitions, formulas, and examples to help you understand the concepts better. If you have any questions or need clarification, please do not hesitate to ask. I will also check your understanding by asking follow-up questions and providing concrete examples during our discussions. Lastly, I will format my responses in LaTeX to make them clear and professional. What are your personal information that I have to know?\"},\n",
    "    {\"role\":\"user\",\n",
    "    \"content\":\"My name is\"+\" \"+name+\" \"+\"I m\"+\" \"+age+\" \"+\"years old and my level of instruction is\"+\" \"+instruction+\". \"+\"My hobbies are:\"+\" \"+hobbies},\n",
    "    {\"role\":\"assistant\",\n",
    "    \"content\":\"Nice to meet you\"+\" \"+name+\" \"+\",let me know if you have some questions about\"+\" \"+topic+\". I ll try to suits my answers based on your profile!\"}\n",
    "    ]\n"
   ]
  },
  {
   "cell_type": "code",
   "execution_count": 3,
   "id": "f550e389-7733-4637-9318-2927c268cca5",
   "metadata": {},
   "outputs": [],
   "source": [
    "def TutorAI(question,chat):\n",
    "    chat.append({\"role\":\"user\", \"content\":question})\n",
    "    reply=openai.ChatCompletion.create(model=\"gpt-3.5-turbo\", messages=chat).choices[0].message.content\n",
    "    chat.append({\"role\":\"assistant\", \"content\":reply})\n",
    "    print(reply)\n",
    "    return(chat)"
   ]
  },
  {
   "cell_type": "code",
   "execution_count": 4,
   "id": "0735f5d5-8f63-4a17-9904-924caf59c71b",
   "metadata": {},
   "outputs": [
    {
     "name": "stdout",
     "output_type": "stream",
     "text": [
      "Sure, John. The covariance matrix is a symmetric matrix that captures the covariance between two or more variables. It is a measure of how two variables change together and how strong that relationship is. The diagonal elements of a covariance matrix represent the variances of each variable, while the off-diagonal elements represent the covariance between pairs of variables.\n",
      "\n",
      "The formula for the sample covariance matrix for two variables x and y with n observations in a dataset is:\n",
      "\n",
      "$S=\\begin{bmatrix}s_{xx} & s_{xy} \\\\ s_{yx} & s_{yy}\\end{bmatrix}=\\frac{1}{n-1}\\begin{bmatrix}\\sum\\limits_{i=1}^{n}(x_i-\\bar{x})^2 & \\sum\\limits_{i=1}^{n}(x_i-\\bar{x})(y_i-\\bar{y}) \\\\ \\sum\\limits_{i=1}^{n}(y_i-\\bar{y})(x_i-\\bar{x}) & \\sum\\limits_{i=1}^{n}(y_i-\\bar{y})^2\\end{bmatrix}$ \n",
      "\n",
      "where $s_{xx}$ and $s_{yy}$ are the variances of x and y respectively, $s_{xy}$ (or $s_{yx}$) is the covariance between x and y, $n$ is the number of observations, $x_i$ and $y_i$ are the ith observations of variables x and y respectively, and $\\bar{x}$ and $\\bar{y}$ are the sample means of x and y respectively.\n",
      "\n",
      "For example, suppose we have a dataset with two variables, x and y, and five observations:\n",
      "\n",
      "x = [1, 2, 3, 4, 5]\n",
      "y = [6, 7, 8, 9, 10]\n",
      "\n",
      "The sample covariance matrix for this dataset would be:\n",
      "\n",
      "$S=\\begin{bmatrix}s_{xx} & s_{xy} \\\\ s_{yx} & s_{yy}\\end{bmatrix}=\\frac{1}{5-1}\\begin{bmatrix}\\sum\\limits_{i=1}^{5}(x_i-\\bar{x})^2 & \\sum\\limits_{i=1}^{5}(x_i-\\bar{x})(y_i-\\bar{y}) \\\\ \\sum\\limits_{i=1}^{5}(y_i-\\bar{y})(x_i-\\bar{x}) & \\sum\\limits_{i=1}^{5}(y_i-\\bar{y})^2\\end{bmatrix}=\\begin{bmatrix}2.5 & 2.5 \\\\ 2.5 & 2.5\\end{bmatrix}$\n",
      "\n",
      "I hope this helps! Let me know if you have any further questions or if anything is unclear.\n"
     ]
    }
   ],
   "source": [
    "chat=TutorAI(\"What is the covariance matrix?\",chat)"
   ]
  },
  {
   "cell_type": "code",
   "execution_count": 5,
   "id": "fce6418a-a915-4587-877d-03e5503dbd29",
   "metadata": {},
   "outputs": [
    {
     "name": "stdout",
     "output_type": "stream",
     "text": [
      "I apologize if my explanation wasn't clear enough. Let me try to break it down a bit more simply with an example.\n",
      "\n",
      "Suppose we have a dataset with two variables: the number of hours John spends painting per week (x), and the number of hours John spends writing per week (y). We also have 10 observations (i.e., 10 weeks' worth of data). Our dataset looks like this:\n",
      "\n",
      "| Painting (x) | Writing (y) |\n",
      "|--------------|-------------|\n",
      "| 2            | 4           |\n",
      "| 1            | 5           |\n",
      "| 3            | 3           |\n",
      "| 4            | 2           |\n",
      "| 2            | 6           |\n",
      "| 3            | 7           |\n",
      "| 1            | 4           |\n",
      "| 5            | 1           |\n",
      "| 2            | 3           |\n",
      "| 3            | 5           |\n",
      "\n",
      "To calculate the covariance matrix, we first need to calculate the means for each variable. The mean for painting (x) is:\n",
      "\n",
      "$\\bar{x} = \\frac{2+1+3+4+2+3+1+5+2+3}{10} = 2.8$\n",
      "\n",
      "The mean for writing (y) is:\n",
      "\n",
      "$\\bar{y} = \\frac{4+5+3+2+6+7+4+1+3+5}{10} = 4.0$\n",
      "\n",
      "Next, we calculate the covariance between x and y. The covariance formula is:\n",
      "\n",
      "$cov(x,y) = \\frac{\\sum_{i=1}^{n}(x_i - \\bar{x})(y_i - \\bar{y})}{n-1}$\n",
      "\n",
      "We calculate this for all pairs of variables in the dataset to get the covariance matrix. However, in our example, we only have two variables.\n",
      "\n",
      "So, let's calculate the covariance between painting and writing. We plug in the data and the means:\n",
      "\n",
      "$cov(x,y) = \\frac{(2-2.8)(4-4)+(1-2.8)(5-4)+(3-2.8)(3-4)+(4-2.8)(2-4)+(2-2.8)(6-4)+(3-2.8)(7-4)+(1-2.8)(4-4)+(5-2.8)(1-4)+(2-2.8)(3-4)+(3-2.8)(5-4)}{10-1} = -1.3$\n",
      "\n",
      "This gives us the covariance between painting (x) and writing (y). We can construct the covariance matrix by placing this value in the off-diagonal position, and the variances of painting (x) and writing (y) along the diagonal. That is:\n",
      "\n",
      "$S = \\begin{bmatrix}Var(x) & Cov(x,y) \\\\ Cov(y,x) & Var(y)\\end{bmatrix} = \\begin{bmatrix}s_{xx} & s_{xy} \\\\ s_{yx} & s_{yy}\\end{bmatrix} = \\begin{bmatrix}s_{x}^2 & s_{xy} \\\\ s_{xy} & s_{y}^2\\end{bmatrix}$\n",
      "\n",
      "We can also calculate the variance of each variable using the variance formula:\n",
      "\n",
      "$Var(x) = \\frac{\\sum_{i=1}^{n}(x_i - \\bar{x})^2}{n-1}$\n",
      "\n",
      "$Var(y) = \\frac{\\sum_{i=1}^{n}(y_i - \\bar{y})^2}{n-1}$\n",
      "\n",
      "For our example, the covariance matrix is:\n",
      "\n",
      "$S = \\begin{bmatrix}s_{xx} & s_{xy} \\\\ s_{yx} & s_{yy}\\end{bmatrix} = \\begin{bmatrix}0.9 & -1.3 \\\\ -1.3 & 2.1\\end{bmatrix}$\n",
      "\n",
      "This matrix tells us that the variance of painting (x) is 0.9, the variance of writing (y) is 2.1, and the covariance between them is -1.3. A negative covariance indicates that the variables move in opposite directions - that is, when one increases, the other decreases.\n",
      "\n",
      "I hope this example makes it clearer. Please let me know if you have any further questions!\n"
     ]
    }
   ],
   "source": [
    "chat=TutorAI(\"I did not understand very well\",chat)"
   ]
  },
  {
   "cell_type": "code",
   "execution_count": null,
   "id": "c4cea186-fca8-4722-a7bd-2aebd5173cbc",
   "metadata": {},
   "outputs": [],
   "source": []
  }
 ],
 "metadata": {
  "kernelspec": {
   "display_name": "Python 3 (ipykernel)",
   "language": "python",
   "name": "python3"
  },
  "language_info": {
   "codemirror_mode": {
    "name": "ipython",
    "version": 3
   },
   "file_extension": ".py",
   "mimetype": "text/x-python",
   "name": "python",
   "nbconvert_exporter": "python",
   "pygments_lexer": "ipython3",
   "version": "3.10.7"
  }
 },
 "nbformat": 4,
 "nbformat_minor": 5
}
