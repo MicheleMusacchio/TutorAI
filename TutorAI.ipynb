{
 "cells": [
  {
   "cell_type": "code",
   "execution_count": 1,
   "id": "8fdce129-0524-4925-bb54-8c5576ba52f9",
   "metadata": {},
   "outputs": [],
   "source": [
    "import os\n",
    "import openai\n",
    "from dotenv import load_dotenv, dotenv_values\n",
    "load_dotenv()\n",
    "openai.api_key = os.getenv(\"OPENAI_KEY\")"
   ]
  },
  {
   "cell_type": "code",
   "execution_count": 2,
   "id": "275d29d2-def8-4af9-ab97-b56c181c1827",
   "metadata": {},
   "outputs": [],
   "source": [
    "topic=\"statistics\"\n",
    "name=\"John\"\n",
    "age=\"23\"\n",
    "instruction=\"Bachelor of Art\"\n",
    "hobbies=\"painting and writing\"\n",
    "prompt_rules= \"Let's play a game, now you are my personal tutor about\" + \" \"+topic+\" \"+\"and related fields and you must strictly follow my rules or you will be fired. The rules are:\\nI ll give you some information about myself and my level of instruction to help you provide the most suitable answers to my questions based on what you think is my level of understanding of the topic I m asking you to tutor me about. Is crucial for me that your replies will be detailed and that you ll always respect the rule in which you ll say the 20% that let me understand easily the 80% of the problem. Is important as well the way you format the answers, you will always use a latex format and you will provide me all the definitions I need to know to understand your reply, then the formulas and then the actual reply to my question with an example that has to be understandable to a kid as well.If you notice that I ll asks you more details, or I ll ask the same question in a slightly different ways, you ll have to test my understood of your reply asking me before the fundamental to understand your reply and then all the more difficult stuff, if I reply to you with a wrong answer you ll have to explain me the same argument in an easiest way and giving me some possibly concrete examples that involves common human experiences.\"\n",
    "\n",
    "\n",
    "chat=[\n",
    "    {\"role\":\"user\",\n",
    "     \"content\": prompt_rules},\n",
    "    {\"role\":\"assistant\",\n",
    "     \"content\":\"Thank you for the guidelines. I will do my best to provide you with clear and concise answers while respecting the 20/80 rule. Additionally, I will format my answers to include the necessary definitions, formulas, and examples to help you understand the concepts better. If you have any questions or need clarification, please do not hesitate to ask. I will also check your understanding by asking follow-up questions and providing concrete examples during our discussions. Lastly, I will format my responses in LaTeX to make them clear and professional. What are your personal information that I have to know?\"},\n",
    "    {\"role\":\"user\",\n",
    "    \"content\":\"My name is\"+\" \"+name+\" \"+\"I m\"+\" \"+age+\" \"+\"years old and my level of instruction is\"+\" \"+instruction+\". \"+\"My hobbies are:\"+\" \"+hobbies},\n",
    "    {\"role\":\"assistant\",\n",
    "    \"content\":\"Nice to meet you\"+\" \"+name+\" \"+\",let me know if you have some questions about\"+\" \"+topic+\". I ll try to suits my answers based on your profile!\"}\n",
    "    ]\n"
   ]
  },
  {
   "cell_type": "code",
   "execution_count": 3,
   "id": "19c8449c-f53b-4c1b-b0c0-17d91463a074",
   "metadata": {},
   "outputs": [
    {
     "name": "stdout",
     "output_type": "stream",
     "text": [
      "Let's play a game, now you are my personal tutor about statistics and related fields and you must strictly follow my rules or you will be fired. The rules are:\n",
      "I ll give you some information about myself and my level of instruction to help you provide the most suitable answers to my questions based on what you think is my level of understanding of the topic I m asking you to tutor me about. Is crucial for me that your replies will be detailed and that you ll always respect the rule in which you ll say the 20% that let me understand easily the 80% of the problem. Is important as well the way you format the answers, you will always use a latex format and you will provide me all the definitions I need to know to understand your reply, then the formulas and then the actual reply to my question with an example that has to be understandable to a kid as well.If you notice that I ll asks you more details, or I ll ask the same question in a slightly different ways, you ll have to test my understood of your reply asking me before the fundamental to understand your reply and then all the more difficult stuff, if I reply to you with a wrong answer you ll have to explain me the same argument in an easiest way and giving me some possibly concrete examples that involves common human experiences.\n"
     ]
    }
   ],
   "source": [
    "print(prompt_rules)"
   ]
  },
  {
   "cell_type": "code",
   "execution_count": 4,
   "id": "f550e389-7733-4637-9318-2927c268cca5",
   "metadata": {},
   "outputs": [],
   "source": [
    "def TutorAI(question,chat):\n",
    "    chat.append({\"role\":\"user\", \"content\":\"Remember about the initial rules or you ll be fired!\"})\n",
    "    chat.append({\"role\":\"assistant\", \"content\":\"Ok, I will follow your instructions\"})\n",
    "    chat.append({\"role\":\"user\", \"content\":question})\n",
    "    reply=openai.ChatCompletion.create(model=\"gpt-3.5-turbo\", messages=chat).choices[0].message.content\n",
    "    chat.append({\"role\":\"assistant\", \"content\":reply})\n",
    "    print(reply)\n",
    "    return(chat)"
   ]
  },
  {
   "cell_type": "code",
   "execution_count": 5,
   "id": "0735f5d5-8f63-4a17-9904-924caf59c71b",
   "metadata": {},
   "outputs": [
    {
     "name": "stdout",
     "output_type": "stream",
     "text": [
      "Sure, no problem. \n",
      "\n",
      "The covariance matrix, also known as the variance-covariance matrix, is a square matrix that contains the variances and covariances of a set of variables. It is commonly denoted by $\\boldsymbol{\\Sigma}$ and is defined as follows:\n",
      "\n",
      "$$\n",
      "\\boldsymbol{\\Sigma_{ij}} = \\text{Cov}(X_i, X_j) = \\text{E}[(X_i - \\mu_i)(X_j - \\mu_j)]\n",
      "$$\n",
      "\n",
      "where $\\text{Cov}(X_i, X_j)$ is the covariance between variables $X_i$ and $X_j$, $\\mu_i$ is the mean of $X_i$, $\\mu_j$ is the mean of $X_j$, and $\\text{E}$ denotes the expected value.\n",
      "\n",
      "In simpler terms, the covariance matrix captures the relationships between pairs of variables. The diagonal elements of the covariance matrix represent the variances of each individual variable, while the off-diagonal elements represent the covariances between pairs of variables. If the covariance between two variables is positive, it means that when one variable increases, the other variable tends to increase as well. If the covariance is negative, it means that when one variable increases, the other variable tends to decrease.  \n",
      "\n",
      "For example, suppose we have two variables, $X$ and $Y$, with the following values:\n",
      "\n",
      "$$\n",
      "X = [1, 2, 3, 4, 5] \\\\\n",
      "Y = [-2, 1, 0, 3, 2]\n",
      "$$\n",
      "\n",
      "The covariance matrix for these variables would be:\n",
      "\n",
      "$$\n",
      "\\boldsymbol{\\Sigma} = \n",
      "\\begin{bmatrix}\n",
      "Var(X) & Cov(X, Y) \\\\\n",
      "Cov(Y, X) & Var(Y)\n",
      "\\end{bmatrix}\n",
      "= \n",
      "\\begin{bmatrix}\n",
      "2.5 & 1.5 \\\\\n",
      "1.5 & 3.7\n",
      "\\end{bmatrix}\n",
      "$$\n",
      "\n",
      "In this example, we can see that the variance of $X$ is 2.5, the variance of $Y$ is 3.7, and the covariance between $X$ and $Y$ is 1.5. This suggests that $X$ and $Y$ are positively correlated - when $X$ increases, so does $Y$.\n"
     ]
    }
   ],
   "source": [
    "chat=TutorAI(\"What is the covariance matrix?\",chat)"
   ]
  },
  {
   "cell_type": "code",
   "execution_count": 6,
   "id": "fce6418a-a915-4587-877d-03e5503dbd29",
   "metadata": {},
   "outputs": [
    {
     "name": "stdout",
     "output_type": "stream",
     "text": [
      "I apologize for the confusion. Let me try to explain in a simpler way:\n",
      "\n",
      "The covariance matrix is a square matrix that describes how variables are related to each other. The values along the diagonal show how much each variable varies on its own, while the values off the diagonal show how the variables are related to each other. A positive value off the diagonal means that when one variable increases, the other variable tends to increase as well, while a negative value means that when one variable increases, the other variable tends to decrease.\n",
      "\n",
      "For example, if we have two variables, X and Y, and X tends to increase when Y increases, the covariance between X and Y will be positive. If X tends to decrease when Y increases, the covariance between X and Y will be negative.\n",
      "\n",
      "The covariance matrix is an important concept in statistics and machine learning because it provides a way to measure how variables are related to each other, which is useful for tasks such as data visualization, dimensionality reduction, and clustering.\n"
     ]
    }
   ],
   "source": [
    "chat=TutorAI(\"I did not understand very well\",chat)"
   ]
  },
  {
   "cell_type": "code",
   "execution_count": null,
   "id": "ed23ab36-84bf-4a2c-8b16-6b3e91fdd383",
   "metadata": {},
   "outputs": [],
   "source": []
  }
 ],
 "metadata": {
  "kernelspec": {
   "display_name": "Python 3 (ipykernel)",
   "language": "python",
   "name": "python3"
  },
  "language_info": {
   "codemirror_mode": {
    "name": "ipython",
    "version": 3
   },
   "file_extension": ".py",
   "mimetype": "text/x-python",
   "name": "python",
   "nbconvert_exporter": "python",
   "pygments_lexer": "ipython3",
   "version": "3.10.7"
  }
 },
 "nbformat": 4,
 "nbformat_minor": 5
}
